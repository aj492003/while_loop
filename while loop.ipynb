{
 "cells": [
  {
   "cell_type": "code",
   "execution_count": 1,
   "id": "e316574f-15cc-4deb-9faf-aca9285041f2",
   "metadata": {},
   "outputs": [
    {
     "name": "stdout",
     "output_type": "stream",
     "text": [
      "1\n",
      "2\n",
      "3\n",
      "4\n",
      "5\n",
      "6\n",
      "7\n",
      "8\n",
      "9\n",
      "10\n"
     ]
    }
   ],
   "source": [
    "a = 1\n",
    "\n",
    "while a<=10:\n",
    "    print(a)\n",
    "    a=a+1"
   ]
  },
  {
   "cell_type": "code",
   "execution_count": 2,
   "id": "6fa93988-d3b5-4a9d-9207-bfc705a415c6",
   "metadata": {},
   "outputs": [],
   "source": [
    "# sum up the number till some point"
   ]
  },
  {
   "cell_type": "code",
   "execution_count": 4,
   "id": "66ccadc7-6c54-4edd-bfe5-27a479148224",
   "metadata": {},
   "outputs": [
    {
     "name": "stdin",
     "output_type": "stream",
     "text": [
      "enter your limit 40\n"
     ]
    },
    {
     "data": {
      "text/plain": [
       "820"
      ]
     },
     "execution_count": 4,
     "metadata": {},
     "output_type": "execute_result"
    }
   ],
   "source": [
    "n = int(input(\"enter your limit\"))\n",
    "starting_point = 0\n",
    "counter = 1\n",
    "\n",
    "while counter <=n:\n",
    "    starting_point = starting_point + counter\n",
    "    counter = counter+1\n",
    "starting_point"
   ]
  },
  {
   "cell_type": "code",
   "execution_count": 5,
   "id": "14c38e8b-c1f5-42e0-8bb8-79d1176d0020",
   "metadata": {},
   "outputs": [],
   "source": [
    "# factorial "
   ]
  },
  {
   "cell_type": "code",
   "execution_count": 6,
   "id": "ae341a45-09a0-4fc7-b34e-f142ffaffc62",
   "metadata": {},
   "outputs": [
    {
     "name": "stdin",
     "output_type": "stream",
     "text": [
      "enter your number 5\n"
     ]
    },
    {
     "data": {
      "text/plain": [
       "120"
      ]
     },
     "execution_count": 6,
     "metadata": {},
     "output_type": "execute_result"
    }
   ],
   "source": [
    "number = int(input(\"enter your number\"))\n",
    "factorial = 1\n",
    "while number >0:\n",
    "    factorial = factorial*number\n",
    "    number = number -1\n",
    "factorial"
   ]
  },
  {
   "cell_type": "code",
   "execution_count": 7,
   "id": "9609abfc-eb41-4b9a-af56-5737d0f973f9",
   "metadata": {},
   "outputs": [],
   "source": [
    "# fibonacci series (using while loop)"
   ]
  },
  {
   "cell_type": "code",
   "execution_count": 8,
   "id": "b8f3900f-a8f8-4b4f-a74c-9b2ce23829a4",
   "metadata": {},
   "outputs": [
    {
     "name": "stdin",
     "output_type": "stream",
     "text": [
      "enter the number of element you are looking for 10\n"
     ]
    },
    {
     "name": "stdout",
     "output_type": "stream",
     "text": [
      "0\n",
      "1\n",
      "1\n",
      "2\n",
      "3\n",
      "5\n",
      "8\n",
      "13\n",
      "21\n",
      "34\n"
     ]
    }
   ],
   "source": [
    "number = int(input(\"enter the number of element you are looking for\"))\n",
    "a,b = 0,1\n",
    "counter = 0\n",
    "while counter < number:\n",
    "    print(a)\n",
    "    c=a+b\n",
    "    a=b\n",
    "    b=c\n",
    "    counter = counter +1"
   ]
  },
  {
   "cell_type": "code",
   "execution_count": 9,
   "id": "53f1f6b0-939c-4605-a45e-793270008fcd",
   "metadata": {},
   "outputs": [],
   "source": [
    "# fibonacci series (using for loop)"
   ]
  },
  {
   "cell_type": "code",
   "execution_count": 10,
   "id": "5f541649-54c2-40f0-84b1-0896e5ca2e21",
   "metadata": {},
   "outputs": [
    {
     "name": "stdout",
     "output_type": "stream",
     "text": [
      "0\n",
      "1\n",
      "1\n",
      "2\n",
      "3\n",
      "5\n",
      "8\n",
      "13\n",
      "21\n",
      "34\n"
     ]
    }
   ],
   "source": [
    "a,b=0,1\n",
    "for i in range(10):\n",
    "    print(a)\n",
    "    c=a+b\n",
    "    a=b\n",
    "    b=c"
   ]
  },
  {
   "cell_type": "code",
   "execution_count": 11,
   "id": "0ff05759-ea01-4016-8c71-a6e29183e023",
   "metadata": {},
   "outputs": [],
   "source": [
    "s=\"ankur\""
   ]
  },
  {
   "cell_type": "code",
   "execution_count": 12,
   "id": "c81108f4-8866-442a-9143-49a1c16d8182",
   "metadata": {},
   "outputs": [
    {
     "data": {
      "text/plain": [
       "'rukna'"
      ]
     },
     "execution_count": 12,
     "metadata": {},
     "output_type": "execute_result"
    }
   ],
   "source": [
    "s[::-1]"
   ]
  },
  {
   "cell_type": "code",
   "execution_count": 13,
   "id": "e751c0c0-9abc-4863-a594-7805644a6ca6",
   "metadata": {},
   "outputs": [
    {
     "name": "stdin",
     "output_type": "stream",
     "text": [
      "enter your string for reversal ankur\n"
     ]
    }
   ],
   "source": [
    "word = input(\"enter your string for reversal\")"
   ]
  },
  {
   "cell_type": "code",
   "execution_count": 14,
   "id": "0ebf3679-c90b-47ca-822d-12b781117a1a",
   "metadata": {},
   "outputs": [
    {
     "name": "stdout",
     "output_type": "stream",
     "text": [
      " rukna\n"
     ]
    }
   ],
   "source": [
    "reverse = \" \"\n",
    "length = len(word)\n",
    "while length >0:\n",
    "    reverse = reverse+word[length-1]\n",
    "    length = length-1\n",
    "print(reverse)"
   ]
  },
  {
   "cell_type": "code",
   "execution_count": 15,
   "id": "298dbbc3-fbc5-4b3a-96df-535250003763",
   "metadata": {},
   "outputs": [],
   "source": [
    "# print table of a number"
   ]
  },
  {
   "cell_type": "code",
   "execution_count": 16,
   "id": "14964d04-6cbf-491b-a623-e8ad24bd7c79",
   "metadata": {},
   "outputs": [
    {
     "name": "stdin",
     "output_type": "stream",
     "text": [
      "enter your number 10\n"
     ]
    },
    {
     "name": "stdout",
     "output_type": "stream",
     "text": [
      "10 * 1 = 10\n",
      "10 * 2 = 20\n",
      "10 * 3 = 30\n",
      "10 * 4 = 40\n",
      "10 * 5 = 50\n",
      "10 * 6 = 60\n",
      "10 * 7 = 70\n",
      "10 * 8 = 80\n",
      "10 * 9 = 90\n",
      "10 * 10 = 100\n"
     ]
    }
   ],
   "source": [
    "n = int(input(\"enter your number\"))\n",
    "i =1\n",
    "\n",
    "while i<=10:\n",
    "    result=n*i\n",
    "    print(n,\"*\",i,\"=\",result)\n",
    "    i=i+1\n",
    "    "
   ]
  },
  {
   "cell_type": "code",
   "execution_count": 17,
   "id": "5b8de6c3-b6a9-4dfe-a6ab-b6472c42381a",
   "metadata": {},
   "outputs": [
    {
     "name": "stdout",
     "output_type": "stream",
     "text": [
      "1\n",
      "2\n",
      "3\n",
      "4\n"
     ]
    }
   ],
   "source": [
    "n = 5\n",
    "i = 1\n",
    "while i<n:\n",
    "    print(i)\n",
    "    i = i+1"
   ]
  },
  {
   "cell_type": "code",
   "execution_count": 18,
   "id": "e17518fa-7048-48c1-87d8-c69609469c9c",
   "metadata": {},
   "outputs": [
    {
     "name": "stdout",
     "output_type": "stream",
     "text": [
      "1\n",
      "2\n",
      "3\n",
      "4\n",
      "this will be executed once your while will complete it successfully\n"
     ]
    }
   ],
   "source": [
    "n = 5\n",
    "i = 1\n",
    "while i<n:\n",
    "    print(i)\n",
    "    i = i+1\n",
    "else:\n",
    "    print(\"this will be executed once your while will complete it successfully\")"
   ]
  },
  {
   "cell_type": "code",
   "execution_count": null,
   "id": "69bc87be-f876-4fdb-83cb-b1c0b0cce1d3",
   "metadata": {},
   "outputs": [],
   "source": []
  }
 ],
 "metadata": {
  "kernelspec": {
   "display_name": "Python 3 (ipykernel)",
   "language": "python",
   "name": "python3"
  },
  "language_info": {
   "codemirror_mode": {
    "name": "ipython",
    "version": 3
   },
   "file_extension": ".py",
   "mimetype": "text/x-python",
   "name": "python",
   "nbconvert_exporter": "python",
   "pygments_lexer": "ipython3",
   "version": "3.10.8"
  }
 },
 "nbformat": 4,
 "nbformat_minor": 5
}
